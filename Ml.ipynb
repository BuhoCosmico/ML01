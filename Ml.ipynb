{
  "cells": [
    {
      "cell_type": "code",
      "execution_count": 3,
      "metadata": {
        "id": "fopBHTMKupWG"
      },
      "outputs": [],
      "source": [
        "import pandas as pd\n",
        "import seaborn as sns\n",
        "import matplotlib.pyplot as plt\n",
        "import numpy as np"
      ]
    },
    {
      "cell_type": "code",
      "execution_count": 4,
      "metadata": {
        "id": "aewDARriupWb"
      },
      "outputs": [],
      "source": [
        "df_train = pd.read_parquet('train.parquet', engine= 'pyarrow')"
      ]
    },
    {
      "cell_type": "markdown",
      "source": [
        "PROCESAMIENTO DE LOS DATOS"
      ],
      "metadata": {
        "id": "dVDB0yQocUNC"
      }
    },
    {
      "cell_type": "code",
      "execution_count": null,
      "metadata": {
        "id": "ycJYlf9OupWh",
        "outputId": "99e90951-b10b-4fa6-fce4-f5c6b7ce6d09"
      },
      "outputs": [
        {
          "data": {
            "text/plain": [
              "(346479, 22)"
            ]
          },
          "execution_count": 6,
          "metadata": {},
          "output_type": "execute_result"
        }
      ],
      "source": [
        "#Empezamos observando la estructura del dataset\n",
        "df_train.shape"
      ]
    },
    {
      "cell_type": "code",
      "execution_count": null,
      "metadata": {
        "id": "5F282YiYupWp",
        "outputId": "e1962f03-0095-4a8a-ef8e-982d965c11ac"
      },
      "outputs": [
        {
          "data": {
            "text/plain": [
              "id                           int64\n",
              "url                         object\n",
              "region                      object\n",
              "region_url                  object\n",
              "price                        int64\n",
              "type                        object\n",
              "sqfeet                       int64\n",
              "beds                         int64\n",
              "baths                      float64\n",
              "cats_allowed                 int64\n",
              "dogs_allowed                 int64\n",
              "smoking_allowed              int64\n",
              "wheelchair_access            int64\n",
              "electric_vehicle_charge      int64\n",
              "comes_furnished              int64\n",
              "laundry_options             object\n",
              "parking_options             object\n",
              "image_url                   object\n",
              "description                 object\n",
              "lat                        float64\n",
              "long                       float64\n",
              "state                       object\n",
              "dtype: object"
            ]
          },
          "execution_count": 7,
          "metadata": {},
          "output_type": "execute_result"
        }
      ],
      "source": [
        "# Los diferentes tipos de datos que disponemos\n",
        "df_train.dtypes"
      ]
    },
    {
      "cell_type": "code",
      "execution_count": null,
      "metadata": {
        "id": "IxOjxt7XupYN",
        "outputId": "59786bd8-c297-4100-f1b7-3e54bf096971"
      },
      "outputs": [
        {
          "data": {
            "text/plain": [
              "count    3.464790e+05\n",
              "mean     9.664420e+03\n",
              "std      4.703573e+06\n",
              "min      0.000000e+00\n",
              "25%      8.050000e+02\n",
              "50%      1.036000e+03\n",
              "75%      1.395000e+03\n",
              "max      2.768307e+09\n",
              "Name: price, dtype: float64"
            ]
          },
          "execution_count": 26,
          "metadata": {},
          "output_type": "execute_result"
        }
      ],
      "source": [
        "# Comenzamos a recorrer la columna que mas nos interesa, observando diferentes metricas\n",
        "df_train['price'].describe()"
      ]
    },
    {
      "cell_type": "code",
      "execution_count": null,
      "metadata": {
        "id": "mKm4vC-TupYP",
        "outputId": "d86b24c8-9a59-4c08-892c-43da1a0794d6"
      },
      "outputs": [
        {
          "data": {
            "text/plain": [
              "45823     0\n",
              "313791    0\n",
              "304905    0\n",
              "17761     0\n",
              "300862    0\n",
              "Name: price, dtype: int64"
            ]
          },
          "execution_count": 44,
          "metadata": {},
          "output_type": "execute_result"
        }
      ],
      "source": [
        "df_train['price'].sort_values().head()"
      ]
    },
    {
      "cell_type": "code",
      "execution_count": null,
      "metadata": {
        "id": "H8BXL4NCupYR",
        "outputId": "87ad7486-f379-4f80-dafc-429f9a8d5164"
      },
      "outputs": [
        {
          "data": {
            "text/plain": [
              "297036      12000000\n",
              "265155      18502000\n",
              "79076       18502000\n",
              "98438       21701907\n",
              "106214    2768307249\n",
              "Name: price, dtype: int64"
            ]
          },
          "execution_count": 43,
          "metadata": {},
          "output_type": "execute_result"
        }
      ],
      "source": [
        "df_train['price'].sort_values().tail()"
      ]
    },
    {
      "cell_type": "code",
      "execution_count": 16,
      "metadata": {
        "id": "5isMylsBupYg"
      },
      "outputs": [],
      "source": [
        "# Creamos la columna objetivo\n",
        "df_train['category_price'] = df_train['price'].apply(lambda x: 0 if x < 1000 else 1)\n",
        "#low = 0\n",
        "#medium = 1\n",
        "#righ = 1"
      ]
    },
    {
      "cell_type": "code",
      "execution_count": 19,
      "metadata": {
        "colab": {
          "base_uri": "https://localhost:8080/",
          "height": 280
        },
        "id": "1qoUO2zMupYn",
        "outputId": "e741ebd2-7b58-4c9e-bf37-2f76e5580ae9"
      },
      "outputs": [
        {
          "output_type": "display_data",
          "data": {
            "text/plain": [
              "<Figure size 432x288 with 1 Axes>"
            ],
            "image/png": "[encoded data removed]"
          },
          "metadata": {
            "needs_background": "light"
          }
        }
      ],
      "source": [
        "sns.countplot(x='category_price', data=df_train)\n",
        "plt.show()"
      ]
    },
    {
      "cell_type": "code",
      "execution_count": 20,
      "metadata": {
        "id": "hmrPmb4eupYo"
      },
      "outputs": [],
      "source": [
        "# Nos quedamos con las columnas que mas nos interesan\n",
        "data = df_train[['price', 'description', 'category_price']].copy()"
      ]
    },
    {
      "cell_type": "code",
      "execution_count": 21,
      "metadata": {
        "id": "d5FJucO1upYq"
      },
      "outputs": [],
      "source": [
        "# Pasamos a miniscula todas las letras de la columna 'description\n",
        "data['description'] = data['description'].str.lower()"
      ]
    },
    {
      "cell_type": "code",
      "source": [
        "# Eliminamos los datos nulos\n",
        "data.dropna(subset = ['price'], inplace = True)\n",
        "data.dropna(subset = ['description'],inplace = True)"
      ],
      "metadata": {
        "id": "mAM7174Wy6mQ"
      },
      "execution_count": 23,
      "outputs": []
    },
    {
      "cell_type": "code",
      "source": [
        "data.shape"
      ],
      "metadata": {
        "colab": {
          "base_uri": "https://localhost:8080/"
        },
        "id": "cAYTOEjFI8yO",
        "outputId": "1c9ebea4-bcf5-4234-abd9-d0c9580a9ff1"
      },
      "execution_count": null,
      "outputs": [
        {
          "output_type": "execute_result",
          "data": {
            "text/plain": [
              "(345302, 3)"
            ]
          },
          "metadata": {},
          "execution_count": 113
        }
      ]
    },
    {
      "cell_type": "markdown",
      "source": [
        "MODELIZACION"
      ],
      "metadata": {
        "id": "4sg-6qpheadD"
      }
    },
    {
      "cell_type": "code",
      "source": [
        "# Descargamos el modulo 'stopwords' para asi poder tokenizar los datos de nuestra columna 'description'\n",
        "import nltk\n",
        "nltk.download('stopwords')"
      ],
      "metadata": {
        "colab": {
          "base_uri": "https://localhost:8080/"
        },
        "id": "K8dRJA9izb8_",
        "outputId": "5de7f0ad-2c47-4cb4-fbbf-0a126a007d01"
      },
      "execution_count": 11,
      "outputs": [
        {
          "output_type": "stream",
          "name": "stderr",
          "text": [
            "[nltk_data] Downloading package stopwords to /root/nltk_data...\n",
            "[nltk_data]   Unzipping corpora/stopwords.zip.\n"
          ]
        },
        {
          "output_type": "execute_result",
          "data": {
            "text/plain": [
              "True"
            ]
          },
          "metadata": {},
          "execution_count": 11
        }
      ]
    },
    {
      "cell_type": "code",
      "source": [
        "from sklearn.feature_extraction.text import TfidfVectorizer\n",
        "import nltk"
      ],
      "metadata": {
        "id": "plqIFxLGW55N"
      },
      "execution_count": 10,
      "outputs": []
    },
    {
      "cell_type": "code",
      "execution_count": null,
      "metadata": {
        "id": "LG5Zl9XcupZE"
      },
      "outputs": [],
      "source": [
        "sw = nltk.corpus.stopwords.words('english')\n",
        "# Nos quedamos con la lista de los textos de las descripciones\n",
        "corpus = data['description']\n",
        "# Lo convertimos a lista\n",
        "corpus = list(corpus)\n",
        "# Instanciamos el vectorizador con los stopwords y un máximo de features de 1000\n",
        "vectorizer = TfidfVectorizer(stop_words=sw, max_features=1000)\n",
        "# Vectorizamos los datos\n",
        "x = vectorizer.fit_transform(corpus)\n",
        "# Vemos la cantidad de datos obtenidos\n",
        "# Obtenemos la variable objetivo\n",
        "y = data['category_price']"
      ]
    },
    {
      "cell_type": "code",
      "source": [
        "# Observamos como quedaron las estructuras de nuestras nuevas variables\n",
        "x.shape"
      ],
      "metadata": {
        "colab": {
          "base_uri": "https://localhost:8080/"
        },
        "id": "C1Y9MJcXEG2X",
        "outputId": "f54db2be-9a89-4fe3-8e4d-e9563c0c1ba0"
      },
      "execution_count": null,
      "outputs": [
        {
          "output_type": "execute_result",
          "data": {
            "text/plain": [
              "(345302, 1000)"
            ]
          },
          "metadata": {},
          "execution_count": 115
        }
      ]
    },
    {
      "cell_type": "code",
      "source": [
        "y.shape"
      ],
      "metadata": {
        "colab": {
          "base_uri": "https://localhost:8080/"
        },
        "id": "BbQrhbhyEKvE",
        "outputId": "cfcda34a-66d4-4243-e9a4-8088fcf473ec"
      },
      "execution_count": null,
      "outputs": [
        {
          "output_type": "execute_result",
          "data": {
            "text/plain": [
              "(345302,)"
            ]
          },
          "metadata": {},
          "execution_count": 116
        }
      ]
    },
    {
      "cell_type": "markdown",
      "source": [
        "CREACION DE NUESTRO PIPELINE"
      ],
      "metadata": {
        "id": "Vc3sKMxYeh87"
      }
    },
    {
      "cell_type": "code",
      "execution_count": 27,
      "metadata": {
        "id": "6vNrezGtupZG"
      },
      "outputs": [],
      "source": [
        "# Importaciones\n",
        "from sklearn.ensemble import RandomForestClassifier\n",
        "from sklearn.metrics import confusion_matrix, ConfusionMatrixDisplay\n",
        "from sklearn.model_selection import train_test_split\n",
        "import numpy as np\n",
        "from sklearn.metrics import recall_score, precision_score, accuracy_score\n",
        "from sklearn.pipeline import Pipeline\n",
        "import joblib"
      ]
    },
    {
      "cell_type": "code",
      "execution_count": null,
      "metadata": {
        "id": "PUm_QJlUupZJ"
      },
      "outputs": [],
      "source": [
        "pipe_rf = Pipeline([('rf', RandomForestClassifier(n_estimators=50, random_state=0)),])"
      ]
    },
    {
      "cell_type": "code",
      "execution_count": null,
      "metadata": {
        "id": "hCj3UbLhupZK"
      },
      "outputs": [],
      "source": [
        "x_train, x_test, y_train, y_test = train_test_split(x, y, test_size=0.2, random_state=42)"
      ]
    },
    {
      "cell_type": "code",
      "execution_count": null,
      "metadata": {
        "colab": {
          "base_uri": "https://localhost:8080/"
        },
        "id": "OvXgLDv2upZK",
        "outputId": "585101d6-7bd4-49f2-8a2c-c85b5ad1a6c6"
      },
      "outputs": [
        {
          "output_type": "execute_result",
          "data": {
            "text/plain": [
              "Pipeline(steps=[('rf',\n",
              "                 RandomForestClassifier(n_estimators=50, random_state=0))])"
            ]
          },
          "metadata": {},
          "execution_count": 119
        }
      ],
      "source": [
        "# Entrenamos nuestro modelo\n",
        "pipe_rf.fit(x_train, y_train)"
      ]
    },
    {
      "cell_type": "code",
      "execution_count": null,
      "metadata": {
        "colab": {
          "base_uri": "https://localhost:8080/"
        },
        "id": "_RoFJTb0upZL",
        "outputId": "6164d1ec-51b6-4db5-dadb-f004771bf428"
      },
      "outputs": [
        {
          "output_type": "execute_result",
          "data": {
            "text/plain": [
              "['modelo_random_forest01.pkl']"
            ]
          },
          "metadata": {},
          "execution_count": 120
        }
      ],
      "source": [
        "joblib.dump(pipe_rf, 'modelo_random_forest01.pkl', compress=1)"
      ]
    },
    {
      "cell_type": "code",
      "source": [
        "rf = joblib.load('modelo_random_forest01.pkl')"
      ],
      "metadata": {
        "id": "V7yzTJLDCEMF"
      },
      "execution_count": 25,
      "outputs": []
    },
    {
      "cell_type": "code",
      "source": [
        "y_pred = rf.predict(x_test)"
      ],
      "metadata": {
        "id": "czCYt7dXCXrq"
      },
      "execution_count": null,
      "outputs": []
    },
    {
      "cell_type": "code",
      "source": [
        "# Visualizamos el desempeño de nuestro algoritmo\n",
        "cm = confusion_matrix(y_test, y_pred, labels=rf.classes_)\n",
        "disp = ConfusionMatrixDisplay(cm, display_labels=rf.classes_)\n",
        "disp.plot()"
      ],
      "metadata": {
        "colab": {
          "base_uri": "https://localhost:8080/",
          "height": 297
        },
        "id": "Qq4lvsxHDvzh",
        "outputId": "6869c1e7-4267-43e5-8dc8-578c5de0ce90"
      },
      "execution_count": null,
      "outputs": [
        {
          "output_type": "execute_result",
          "data": {
            "text/plain": [
              "<sklearn.metrics._plot.confusion_matrix.ConfusionMatrixDisplay at 0x7fc627d9a520>"
            ]
          },
          "metadata": {},
          "execution_count": 125
        },
        {
          "output_type": "display_data",
          "data": {
            "text/plain": [
              "<Figure size 432x288 with 2 Axes>"
            ],
            "image/png": "[encoded data removed]"
          },
          "metadata": {
            "needs_background": "light"
          }
        }
      ]
    },
    {
      "cell_type": "code",
      "source": [
        "rs = recall_score(y_test, y_pred)\n",
        "ps = precision_score(y_test, y_pred)\n",
        "ac = accuracy_score(y_test, y_pred)\n",
        "\n",
        "print(f'Recall: {rs}')\n",
        "print(f'Precision: {ps}')\n",
        "print(f'Accuracy: {ac}')"
      ],
      "metadata": {
        "colab": {
          "base_uri": "https://localhost:8080/"
        },
        "id": "Zy2KbDER962I",
        "outputId": "fafb57b0-1f23-4e25-f950-c066bc6511d9"
      },
      "execution_count": null,
      "outputs": [
        {
          "output_type": "stream",
          "name": "stdout",
          "text": [
            "Recall: 0.9028916702632714\n",
            "Precision: 0.8850811782748955\n",
            "Accuracy: 0.8849422973892646\n"
          ]
        }
      ]
    },
    {
      "cell_type": "markdown",
      "source": [
        "ARCHIVO TEST\n"
      ],
      "metadata": {
        "id": "sWYtsmNmU7wL"
      }
    },
    {
      "cell_type": "code",
      "source": [
        "data_t = pd.read_parquet('test.parquet', engine= 'pyarrow')"
      ],
      "metadata": {
        "id": "CPtka_LaU5Ls"
      },
      "execution_count": 7,
      "outputs": []
    },
    {
      "cell_type": "code",
      "source": [
        "# Obtenemos los índices de los registros con descripciones vacías\n",
        "sin_desc = data_t[data_t.description.isnull()].index"
      ],
      "metadata": {
        "id": "VatT17siWdNJ"
      },
      "execution_count": 8,
      "outputs": []
    },
    {
      "cell_type": "code",
      "source": [
        "# Vemos si hay nulos en la columna 'description'\n",
        "data_t['description'].isnull().sum()"
      ],
      "metadata": {
        "colab": {
          "base_uri": "https://localhost:8080/"
        },
        "id": "R6Djv3sKWwIG",
        "outputId": "79fd96ef-1e3d-4d69-e89e-58b6b524d972"
      },
      "execution_count": 9,
      "outputs": [
        {
          "output_type": "execute_result",
          "data": {
            "text/plain": [
              "0"
            ]
          },
          "metadata": {},
          "execution_count": 9
        }
      ]
    },
    {
      "cell_type": "code",
      "source": [
        "# Obtenemos los stopwords\n",
        "sw = nltk.corpus.stopwords.words('english')\n",
        "# Nos quedamos con la lista de los textos de las descripciones\n",
        "corpus_t = data_t['description']\n",
        "# Lo convertimos a lista\n",
        "corpus_t = list(corpus_t)"
      ],
      "metadata": {
        "id": "_U-Vd_psW1l5"
      },
      "execution_count": 12,
      "outputs": []
    },
    {
      "cell_type": "code",
      "source": [
        "# Instanciamos el vectorizador con los stopwords y un máximo de features de 1000\n",
        "vectorizer_t = TfidfVectorizer(stop_words=sw, max_features=1000)\n",
        "# Vectorizamos los datos\n",
        "x_t = vectorizer_t.fit_transform(corpus_t)"
      ],
      "metadata": {
        "id": "JLIrxKcAXMeA"
      },
      "execution_count": 14,
      "outputs": []
    },
    {
      "cell_type": "code",
      "source": [
        "#realizamos el predict\n",
        "y_t_predict = rf.predict(x_t)\n"
      ],
      "metadata": {
        "id": "mKimjp78XdW_"
      },
      "execution_count": 30,
      "outputs": []
    },
    {
      "cell_type": "markdown",
      "source": [
        "GENERACION DEL CSV"
      ],
      "metadata": {
        "id": "7cKNQELFZ84N"
      }
    },
    {
      "cell_type": "code",
      "source": [
        "# Creamos el DataFrame que contendrá las predicciones obtenidas\n",
        "datos = pd.DataFrame()\n",
        "# Creamos la columna pred con los datos obtendiso de la predicción\n",
        "datos['pred'] = y_t_predict\n",
        "# Lo guardamos con formato CSV\n",
        "datos.to_csv('BuhoCosmico.csv', index=False)"
      ],
      "metadata": {
        "id": "9Y_uUK8UZ8ap"
      },
      "execution_count": 31,
      "outputs": []
    }
  ],
  "metadata": {
    "kernelspec": {
      "display_name": "Python 3",
      "language": "python",
      "name": "python3"
    },
    "language_info": {
      "codemirror_mode": {
        "name": "ipython",
        "version": 3
      },
      "file_extension": ".py",
      "mimetype": "text/x-python",
      "name": "python",
      "nbconvert_exporter": "python",
      "pygments_lexer": "ipython3",
      "version": "3.9.2"
    },
    "orig_nbformat": 4,
    "vscode": {
      "interpreter": {
        "hash": "c327792ab084404e09c997927a75adb34a10674d6d3a8f5da9eb5f77b6911028"
      }
    },
    "colab": {
      "provenance": []
    }
  },
  "nbformat": 4,
  "nbformat_minor": 0
}